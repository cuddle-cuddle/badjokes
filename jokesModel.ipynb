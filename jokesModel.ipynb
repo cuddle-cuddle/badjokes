{
 "cells": [
  {
   "cell_type": "code",
   "execution_count": 1,
   "metadata": {},
   "outputs": [
    {
     "ename": "ImportError",
     "evalue": "No module named 'mkl'",
     "output_type": "error",
     "traceback": [
      "\u001b[0;31m---------------------------------------------------------------------------\u001b[0m",
      "\u001b[0;31mImportError\u001b[0m                               Traceback (most recent call last)",
      "\u001b[0;32m<ipython-input-1-9ef600b70d57>\u001b[0m in \u001b[0;36m<module>\u001b[0;34m()\u001b[0m\n\u001b[0;32m----> 1\u001b[0;31m \u001b[0;32mimport\u001b[0m \u001b[0mmkl\u001b[0m\u001b[0;34m\u001b[0m\u001b[0m\n\u001b[0m\u001b[1;32m      2\u001b[0m \u001b[0;32mimport\u001b[0m \u001b[0mpickle\u001b[0m\u001b[0;34m\u001b[0m\u001b[0m\n\u001b[1;32m      3\u001b[0m \u001b[0;32mimport\u001b[0m \u001b[0mtime\u001b[0m\u001b[0;34m\u001b[0m\u001b[0m\n\u001b[1;32m      4\u001b[0m \u001b[0;34m\u001b[0m\u001b[0m\n\u001b[1;32m      5\u001b[0m \u001b[0;32mwith\u001b[0m \u001b[0mopen\u001b[0m \u001b[0;34m(\u001b[0m\u001b[0;34m'./kid_joke_q.txt'\u001b[0m\u001b[0;34m,\u001b[0m \u001b[0;34m'rb'\u001b[0m\u001b[0;34m)\u001b[0m \u001b[0;32mas\u001b[0m \u001b[0mfp\u001b[0m\u001b[0;34m:\u001b[0m\u001b[0;34m\u001b[0m\u001b[0m\n",
      "\u001b[0;31mImportError\u001b[0m: No module named 'mkl'"
     ]
    }
   ],
   "source": [
    "import pickle\n",
    "import time\n",
    "\n",
    "with open ('./kid_joke_q.txt', 'rb') as fp:\n",
    "    kid_qs = pickle.load(fp)\n",
    "\n",
    "with open ('./kid_joke_a.txt', 'rb') as fp:\n",
    "    kid_as = pickle.load(fp)\n",
    "\n",
    "with open ('./kids_q_corpus.pickle', 'rb') as fp:\n",
    "    kids_q_corpus = pickle.load(fp)\n",
    "\n"
   ]
  },
  {
   "cell_type": "code",
   "execution_count": 2,
   "metadata": {},
   "outputs": [],
   "source": [
    "import numpy as np"
   ]
  },
  {
   "cell_type": "code",
   "execution_count": null,
   "metadata": {},
   "outputs": [],
   "source": [
    "from gensim import corpora"
   ]
  },
  {
   "cell_type": "code",
   "execution_count": 10,
   "metadata": {},
   "outputs": [],
   "source": [
    "from gensim.models import TfidfModel"
   ]
  },
  {
   "cell_type": "code",
   "execution_count": 11,
   "metadata": {},
   "outputs": [],
   "source": [
    "from gensim.models import LsiModel"
   ]
  },
  {
   "cell_type": "code",
   "execution_count": 12,
   "metadata": {},
   "outputs": [],
   "source": [
    "from gensim.similarities import MatrixSimilarity"
   ]
  },
  {
   "cell_type": "code",
   "execution_count": 13,
   "metadata": {},
   "outputs": [],
   "source": [
    "tfidf = TfidfModel.load('./jokes_tfidf.model')\n",
    "lsi = LsiModel.load('./jokes_lsi.model')"
   ]
  },
  {
   "cell_type": "code",
   "execution_count": 23,
   "metadata": {},
   "outputs": [
    {
     "name": "stdout",
     "output_type": "stream",
     "text": [
      "[nltk_data] Downloading package stopwords to /home/penpen/nltk_data...\n",
      "[nltk_data]   Package stopwords is already up-to-date!\n"
     ]
    }
   ],
   "source": [
    "from nltk import word_tokenize\n",
    "from nltk.corpus import stopwords\n",
    "from nltk import download\n",
    "download('stopwords')\n",
    "stop_words = stopwords.words('english')\n",
    "dictionary = corpora.Dictionary.load('./all_jokes_dictionary.model')\n",
    "def preprocess(text):\n",
    "    text = text.lower()\n",
    "    doc = word_tokenize(text)\n",
    "    doc = [word for word in doc if word not in stop_words]\n",
    "    doc = [word for word in doc if word.isalpha()]\n",
    "    return doc"
   ]
  },
  {
   "cell_type": "code",
   "execution_count": 16,
   "metadata": {},
   "outputs": [],
   "source": [
    "def findMatchesInJokes(text=\"What's blue all over? \", topNum=3, corpus=kids_q_corpus, texts=kid_qs):\n",
    "    start_time = time.time()\n",
    "    test_text = text\n",
    "    #test_text = texts[0]\n",
    "    test_text\n",
    "    processed_test_text = preprocess(test_text)\n",
    "    test_text_gensim = dictionary.doc2bow(processed_test_text)\n",
    "    test_text_tfidf = tfidf[[test_text_gensim]]\n",
    "    if len(test_text_tfidf[0]) ==0 : \n",
    "        print(\"Not enough features, try again. \")\n",
    "        return []\n",
    "    # the slow steps\n",
    "    test_text_lsi_index = MatrixSimilarity(lsi[test_text_tfidf])\n",
    "    corpus_tfidf = [dictionary.doc2bow(doc) for doc in corpus]\n",
    "    kids_test_text_sims = np.array([test_text_lsi_index[lsi[corpus_tfidf[i]]] \n",
    "                           for i in range(len(corpus))])\n",
    "    kids_r = np.argsort(kids_test_text_sims.flatten())[-topNum:]\n",
    "    kids_r = list(reversed(kids_r))\n",
    "    for ii in range(len(kids_r)):\n",
    "        print(texts[kids_r[ii]])\n",
    "        \n",
    "    print(\"--- %s seconds ---\" % (time.time() - start_time))\n",
    "    return kids_r\n",
    "\n",
    "\n",
    "\n",
    "#rs = findMatchesInJokes(text=\"what's fat, yo mama? \", topNum=10, corpus=kids_q_corpus, texts=kid_qs)\n"
   ]
  },
  {
   "cell_type": "code",
   "execution_count": 24,
   "metadata": {},
   "outputs": [
    {
     "name": "stdout",
     "output_type": "stream",
     "text": [
      "whats round fat and is sticky\n",
      "mum:there are worms in my plate\n",
      "A UASS OL\n",
      "--- 0.2889692783355713 seconds ---\n"
     ]
    }
   ],
   "source": [
    "#rs = findMatchesInJokes(text=\"what's fat, yo mama? \")"
   ]
  },
  {
   "cell_type": "code",
   "execution_count": 31,
   "metadata": {},
   "outputs": [],
   "source": [
    "def getMatchingJokesJSON(text):\n",
    "    rs = findMatchesInJokes(text=\"what's fat, yo mama? \")\n",
    "    jokes = {}\n",
    "    counter = 1\n",
    "    for i in rs:\n",
    "        jokes[counter] = {}\n",
    "        jokes[counter]['q'] = kid_qs[i]\n",
    "        jokes[counter]['a'] = kid_as[i]\n",
    "        counter = counter +1\n",
    "    return jokes"
   ]
  },
  {
   "cell_type": "code",
   "execution_count": 30,
   "metadata": {},
   "outputs": [
    {
     "data": {
      "text/plain": [
       "{1: {'a': 'a greedy bee', 'q': 'whats round fat and is sticky'},\n",
       " 2: {'a': 'waiter:those are sousages', 'q': 'mum:there are worms in my plate'},\n",
       " 3: {'a': '#notchildfriendlyjokes', 'q': 'A UASS OL'}}"
      ]
     },
     "execution_count": 30,
     "metadata": {},
     "output_type": "execute_result"
    }
   ],
   "source": []
  },
  {
   "cell_type": "code",
   "execution_count": 28,
   "metadata": {},
   "outputs": [
    {
     "data": {
      "text/plain": [
       "[246, 139, 212]"
      ]
     },
     "execution_count": 28,
     "metadata": {},
     "output_type": "execute_result"
    }
   ],
   "source": [
    "rs"
   ]
  },
  {
   "cell_type": "code",
   "execution_count": null,
   "metadata": {},
   "outputs": [],
   "source": []
  }
 ],
 "metadata": {
  "kernelspec": {
   "display_name": "Python 3",
   "language": "python",
   "name": "python3"
  },
  "language_info": {
   "codemirror_mode": {
    "name": "ipython",
    "version": 3
   },
   "file_extension": ".py",
   "mimetype": "text/x-python",
   "name": "python",
   "nbconvert_exporter": "python",
   "pygments_lexer": "ipython3",
   "version": "3.5.4"
  }
 },
 "nbformat": 4,
 "nbformat_minor": 2
}
