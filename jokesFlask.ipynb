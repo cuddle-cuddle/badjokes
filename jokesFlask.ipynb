{
 "cells": [
  {
   "cell_type": "code",
   "execution_count": 1,
   "metadata": {},
   "outputs": [],
   "source": [
    "import os\n",
    "from flask import Flask, jsonify, request\n",
    "from jokesModel import *"
   ]
  },
  {
   "cell_type": "code",
   "execution_count": 2,
   "metadata": {},
   "outputs": [],
   "source": [
    "app = Flask(__name__)"
   ]
  },
  {
   "cell_type": "code",
   "execution_count": 5,
   "metadata": {},
   "outputs": [],
   "source": [
    "def getJSONResult(req):\n",
    "    result = req.get(\"result\")\n",
    "    \n",
    "    if result is None: \n",
    "        print('result not found. ')\n",
    "        return {}\n",
    "    \n",
    "    intent = result.get(\"metadata\").get(\"intentName\")\n",
    "    parameters = result.get(\"parameters\")\n",
    "    \n",
    "    if intent == 'match_kids_jokes':\n",
    "        text = parameters.get(\"search_text\")\n",
    "        s = \"Search \" + text + \":\"\n",
    "        results = getMatchingJokesJSON(text)\n",
    "        return {\n",
    "            \"speech\": s,\n",
    "            \"displayText\": s,\n",
    "            \"data\": results\n",
    "        }\n"
   ]
  },
  {
   "cell_type": "code",
   "execution_count": 6,
   "metadata": {},
   "outputs": [],
   "source": [
    "\n",
    "@app.route('/predict', methods=['POST'])\n",
    "def apicall():\n",
    "    \"\"\"API Call\n",
    "    \"\"\"\n",
    "    print(\"API call received\")  \n",
    "    \n",
    "    try:\n",
    "        req = request.get_json(silent=True, force=True)\n",
    "        print('request received')\n",
    "        response = getJSONResult(req)\n",
    "        print('results are parsed')\n",
    "        print(response)\n",
    "        return jsonify(response)\n",
    "    \n",
    "    except Exception as e:\n",
    "        raise e\n",
    "        message = {\n",
    "            'message': 'error retrieving jokes'\n",
    "        }\n",
    "\n",
    "\n",
    "@app.errorhandler(400)\n",
    "def bad_request(error=None):\n",
    "    message = {\n",
    "            'status': 400,\n",
    "            'message': 'Bad Request: ' + request.url + '--> Please check your data payload...',\n",
    "    }\n",
    "    resp = jsonify(message)\n",
    "    resp.status_code = 400\n",
    "\n",
    "    return resp"
   ]
  },
  {
   "cell_type": "code",
   "execution_count": null,
   "metadata": {},
   "outputs": [],
   "source": []
  }
 ],
 "metadata": {
  "kernelspec": {
   "display_name": "Python 3",
   "language": "python",
   "name": "python3"
  },
  "language_info": {
   "codemirror_mode": {
    "name": "ipython",
    "version": 3
   },
   "file_extension": ".py",
   "mimetype": "text/x-python",
   "name": "python",
   "nbconvert_exporter": "python",
   "pygments_lexer": "ipython3",
   "version": "3.5.4"
  }
 },
 "nbformat": 4,
 "nbformat_minor": 2
}
